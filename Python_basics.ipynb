{
  "nbformat": 4,
  "nbformat_minor": 0,
  "metadata": {
    "colab": {
      "provenance": []
    },
    "kernelspec": {
      "name": "python3",
      "display_name": "Python 3"
    },
    "language_info": {
      "name": "python"
    }
  },
  "cells": [
    {
      "cell_type": "markdown",
      "source": [
        "Python Basics Questions\n",
        "-------------------------------\n",
        "1: What is python, and why is so popular?\n",
        "-> Python is a general-purpose programming language created by Guido van Rossum in the 1980s. It is incredibly versatile, flexible, and beginner-friendly. Python is widely used for web development, data analysis, machine learning, artificial intelligence, task automation, and scripting.\n",
        "\n",
        "2: What is an interpreter in python?\n",
        "-> A python interpreter is a computer program that converts each high-level program statement into machine code that the computer can understand\n",
        "\n",
        "3: What are predefined keywords in python?\n",
        "-> A keyword refers to a predefined word that python reserves for programs, You can't use a keyword anywhere else.\n",
        "\n",
        "4: can keywords be used as variable names?\n",
        "-> No.\n",
        "\n",
        "5: what is mutability in python?\n",
        "-> It refers to the ability of an object to be changed after it is created. This means that you can alter its internal data or attributes without creating a new object.\n",
        "\n",
        "6: Why are lists mutable, but tuples are immutable?\n",
        "-> Lists are mutable means its contents can be changed and values can be added/removed. Tuples are immutable means it's content are static and can't be changed, add or remove. List being mutable, unexpected errors might occur, where as it is not possible in tuples.\n",
        "\n",
        "7: What is the difference between “==” and “is” operators in Python?\n",
        "-> The == operator checks for equality of values which means it evaluates whether the values of two objects are the same. On the other hand, is operator checks for identity, meaning it determines whether two variables point to the same object in memory.\n",
        "\n",
        "8: What are logical operators in Python?\n",
        "-> and, or, not\n",
        "\n",
        "9: What is type casting in Python?\n",
        "-> Type Casting is the method to convert the Python variable datatype into a certain data type in order to perform the required operation by users.\n",
        "\n",
        "10: What is the difference between implicit and explicit type casting?\n",
        "-> An implicit type conversion is automatically performed by the compiler when differing data types are intermixed in an expression. An explicit type conversion is user-defined conversion that forces an expression to be of specific type.\n",
        "\n",
        "11:  What is the purpose of conditional statements in Python?\n",
        "-> A conditional statement will select the block of statements that will execute based on the given condition. The result of the program depends on the condition.\n",
        "\n",
        "12: how does the elif statement work in python?\n",
        "-> elif is short for \"else if\" and is used when the first if statement isn't true, but you want to check for another condition.\n",
        "\n",
        "13: What is the difference between for and while loops  in python?\n",
        "-> For loop is used to iterate over a sequence of items. While loop is used to repeatedly execute a block of statements while a condition is true.\n",
        "\n",
        "14: Describe a scenario where a while loop is more suitable than a for loop.\n",
        "-> Use a `while` loop when you do not know how many times the loop should run. A `while` loop continues executing once a specified condition is considered true.\n",
        "\n",
        "Example: If you are prompting a user for input until they type \"exit,\" a `while` loop is appropriate because you don't know how many inputs the user will provide (how many times the user will input an answer that is not \"exit\").\n",
        "\n",
        "\n",
        "\n",
        "\n",
        "\n",
        "\n",
        "\n",
        "\n",
        "\n",
        "\n",
        "\n",
        "\n",
        "\n",
        "\n",
        "\n",
        "\n",
        "\n",
        "                    \n",
        "\n",
        "\n"
      ],
      "metadata": {
        "id": "OesQZgK74ct-"
      }
    },
    {
      "cell_type": "code",
      "source": [
        "# PRACTICAL QUESTIONS\n",
        "\n",
        "#1: Write a Python program to print \"Hello, World!\n",
        "print(\"Hello, World!\")"
      ],
      "metadata": {
        "colab": {
          "base_uri": "https://localhost:8080/"
        },
        "id": "gbr6g-8ss33N",
        "outputId": "23638095-9a35-4a75-b803-1ffc757d74d3"
      },
      "execution_count": null,
      "outputs": [
        {
          "output_type": "stream",
          "name": "stdout",
          "text": [
            "Hello, World!\n"
          ]
        }
      ]
    },
    {
      "cell_type": "code",
      "source": [
        "#2: Write a Python program that displays your name and age\n",
        "a=input(\"Enter your name: \")\n",
        "b=input(\"Enter your age: \")\n",
        "print(a,b)"
      ],
      "metadata": {
        "colab": {
          "base_uri": "https://localhost:8080/"
        },
        "id": "WuXOUU8XWKyD",
        "outputId": "5a9c72d7-8839-4b8f-84e2-54b59542f37b"
      },
      "execution_count": null,
      "outputs": [
        {
          "output_type": "stream",
          "name": "stdout",
          "text": [
            "Enter your name: Bithal\n",
            "Enter your age: 40\n",
            "Bithal 40\n"
          ]
        }
      ]
    },
    {
      "cell_type": "code",
      "source": [
        "#3: Write code to print all the pre-defined keywords in Python using the keyword library\n",
        "import keyword\n",
        "print(keyword.kwlist)"
      ],
      "metadata": {
        "colab": {
          "base_uri": "https://localhost:8080/"
        },
        "id": "-tZosTHktdEu",
        "outputId": "5da15653-36ef-4b26-bd48-e33958eea0a1"
      },
      "execution_count": null,
      "outputs": [
        {
          "output_type": "stream",
          "name": "stdout",
          "text": [
            "['False', 'None', 'True', 'and', 'as', 'assert', 'async', 'await', 'break', 'class', 'continue', 'def', 'del', 'elif', 'else', 'except', 'finally', 'for', 'from', 'global', 'if', 'import', 'in', 'is', 'lambda', 'nonlocal', 'not', 'or', 'pass', 'raise', 'return', 'try', 'while', 'with', 'yield']\n"
          ]
        }
      ]
    },
    {
      "cell_type": "code",
      "source": [
        "#4: Write a program that checks if a given word is a Python keyword\n",
        "import keyword\n",
        "# initializing strings for testing while putting them in an array\n",
        "keys = [\"for\", \"geeksforgeeks\", \"elif\",\"if\",\"elseif\", \"Bithal\"]\n",
        "\n",
        "for i in range(len(keys)):\n",
        "     # checking which are keywords\n",
        "    if keyword.iskeyword(keys[i]):\n",
        "        print(keys[i] + \" is python keyword\")\n",
        "    else:\n",
        "        print(keys[i] + \" is not a python keyword\")\n",
        "\n",
        "\n",
        "\n"
      ],
      "metadata": {
        "colab": {
          "base_uri": "https://localhost:8080/"
        },
        "id": "OW5Fkk9PtuRj",
        "outputId": "bad3055c-8e3b-4df6-d7b1-0dadc4ff7e0e"
      },
      "execution_count": 2,
      "outputs": [
        {
          "output_type": "stream",
          "name": "stdout",
          "text": [
            "for is python keyword\n",
            "geeksforgeeks is not a python keyword\n",
            "elif is python keyword\n",
            "if is python keyword\n",
            "elseif is not a python keyword\n",
            "Bithal is not a python keyword\n"
          ]
        }
      ]
    },
    {
      "cell_type": "code",
      "source": [
        "#5: Create a list of tuple in python and demonstrate how attempting to change element works differently for each\n",
        "\n",
        "#Tuple\n",
        "tuple1 = (0, 1, 2, 3)\n",
        "tuple1[0] = 4\n",
        "print(tuple1)"
      ],
      "metadata": {
        "id": "Bbp-9qyFugtV",
        "colab": {
          "base_uri": "https://localhost:8080/",
          "height": 193
        },
        "outputId": "f5c2b629-706b-4bda-9951-1bf8506150f9"
      },
      "execution_count": 9,
      "outputs": [
        {
          "output_type": "error",
          "ename": "TypeError",
          "evalue": "'tuple' object does not support item assignment",
          "traceback": [
            "\u001b[0;31m---------------------------------------------------------------------------\u001b[0m",
            "\u001b[0;31mTypeError\u001b[0m                                 Traceback (most recent call last)",
            "\u001b[0;32m<ipython-input-9-10f5cd4bf283>\u001b[0m in \u001b[0;36m<cell line: 5>\u001b[0;34m()\u001b[0m\n\u001b[1;32m      3\u001b[0m \u001b[0;31m#Tuple\u001b[0m\u001b[0;34m\u001b[0m\u001b[0;34m\u001b[0m\u001b[0m\n\u001b[1;32m      4\u001b[0m \u001b[0mtuple1\u001b[0m \u001b[0;34m=\u001b[0m \u001b[0;34m(\u001b[0m\u001b[0;36m0\u001b[0m\u001b[0;34m,\u001b[0m \u001b[0;36m1\u001b[0m\u001b[0;34m,\u001b[0m \u001b[0;36m2\u001b[0m\u001b[0;34m,\u001b[0m \u001b[0;36m3\u001b[0m\u001b[0;34m)\u001b[0m\u001b[0;34m\u001b[0m\u001b[0;34m\u001b[0m\u001b[0m\n\u001b[0;32m----> 5\u001b[0;31m \u001b[0mtuple1\u001b[0m\u001b[0;34m[\u001b[0m\u001b[0;36m0\u001b[0m\u001b[0;34m]\u001b[0m \u001b[0;34m=\u001b[0m \u001b[0;36m4\u001b[0m\u001b[0;34m\u001b[0m\u001b[0;34m\u001b[0m\u001b[0m\n\u001b[0m\u001b[1;32m      6\u001b[0m \u001b[0mprint\u001b[0m\u001b[0;34m(\u001b[0m\u001b[0mtuple1\u001b[0m\u001b[0;34m)\u001b[0m\u001b[0;34m\u001b[0m\u001b[0;34m\u001b[0m\u001b[0m\n",
            "\u001b[0;31mTypeError\u001b[0m: 'tuple' object does not support item assignment"
          ]
        }
      ]
    },
    {
      "cell_type": "code",
      "source": [
        "#List\n",
        "\n",
        "x = [\"apple\", \"banana\", \"cherry\"]\n",
        "x[1]=\"Kiwi\"\n",
        "print(x)"
      ],
      "metadata": {
        "colab": {
          "base_uri": "https://localhost:8080/"
        },
        "id": "3vXM_AkheX0O",
        "outputId": "deb70ce1-2727-4d01-ca94-2056561bfe98"
      },
      "execution_count": 8,
      "outputs": [
        {
          "output_type": "stream",
          "name": "stdout",
          "text": [
            "['apple', 'Kiwi', 'cherry']\n"
          ]
        }
      ]
    },
    {
      "cell_type": "code",
      "source": [
        "#6: write a function to demonstrate the behavior of mutable and immutable arguments in python.\n",
        "\n",
        "#Mutable\n",
        "\n",
        "def my_function(food):\n",
        "  for x in food:\n",
        "    print(x)\n",
        "\n",
        "fruits = [\"apple\", \"banana\", \"cherry\"]\n",
        "fruits[1]=\"Strawberry\"\n",
        "\n",
        "my_function(fruits)\n"
      ],
      "metadata": {
        "colab": {
          "base_uri": "https://localhost:8080/"
        },
        "id": "ysqlQcqmfyhO",
        "outputId": "98329487-c82b-4af0-b784-e5e8ff5efa17"
      },
      "execution_count": 12,
      "outputs": [
        {
          "output_type": "stream",
          "name": "stdout",
          "text": [
            "apple\n",
            "Strawberry\n",
            "cherry\n"
          ]
        }
      ]
    },
    {
      "cell_type": "code",
      "source": [
        "# Immutable\n",
        "\n",
        "def my_function(food):\n",
        "  for x in food:\n",
        "    print(x)\n",
        "\n",
        "fruits = (\"apple\", \"banana\", \"cherry\")\n",
        "fruits[1]=\"Strawberry\"\n",
        "\n",
        "my_function(fruits)"
      ],
      "metadata": {
        "colab": {
          "base_uri": "https://localhost:8080/",
          "height": 211
        },
        "id": "K4KlcAQVnrUY",
        "outputId": "8132d911-c9f5-4892-b8ff-021a71fab0b2"
      },
      "execution_count": 13,
      "outputs": [
        {
          "output_type": "error",
          "ename": "TypeError",
          "evalue": "'tuple' object does not support item assignment",
          "traceback": [
            "\u001b[0;31m---------------------------------------------------------------------------\u001b[0m",
            "\u001b[0;31mTypeError\u001b[0m                                 Traceback (most recent call last)",
            "\u001b[0;32m<ipython-input-13-10afdcaad519>\u001b[0m in \u001b[0;36m<cell line: 8>\u001b[0;34m()\u001b[0m\n\u001b[1;32m      6\u001b[0m \u001b[0;34m\u001b[0m\u001b[0m\n\u001b[1;32m      7\u001b[0m \u001b[0mfruits\u001b[0m \u001b[0;34m=\u001b[0m \u001b[0;34m(\u001b[0m\u001b[0;34m\"apple\"\u001b[0m\u001b[0;34m,\u001b[0m \u001b[0;34m\"banana\"\u001b[0m\u001b[0;34m,\u001b[0m \u001b[0;34m\"cherry\"\u001b[0m\u001b[0;34m)\u001b[0m\u001b[0;34m\u001b[0m\u001b[0;34m\u001b[0m\u001b[0m\n\u001b[0;32m----> 8\u001b[0;31m \u001b[0mfruits\u001b[0m\u001b[0;34m[\u001b[0m\u001b[0;36m1\u001b[0m\u001b[0;34m]\u001b[0m\u001b[0;34m=\u001b[0m\u001b[0;34m\"Strawberry\"\u001b[0m\u001b[0;34m\u001b[0m\u001b[0;34m\u001b[0m\u001b[0m\n\u001b[0m\u001b[1;32m      9\u001b[0m \u001b[0;34m\u001b[0m\u001b[0m\n\u001b[1;32m     10\u001b[0m \u001b[0mmy_function\u001b[0m\u001b[0;34m(\u001b[0m\u001b[0mfruits\u001b[0m\u001b[0;34m)\u001b[0m\u001b[0;34m\u001b[0m\u001b[0;34m\u001b[0m\u001b[0m\n",
            "\u001b[0;31mTypeError\u001b[0m: 'tuple' object does not support item assignment"
          ]
        }
      ]
    },
    {
      "cell_type": "code",
      "source": [
        "# 7 The question is same as practical question 6"
      ],
      "metadata": {
        "id": "6kEJquQToBva"
      },
      "execution_count": null,
      "outputs": []
    },
    {
      "cell_type": "code",
      "source": [
        "# 8 Write a python program to demonstrate the use of logical operators.\n",
        "\n",
        "a=10\n",
        "b=20\n",
        "c=30\n",
        "\n",
        "if c>b and c>a  :\n",
        "    print(\"c is greater\")\n",
        "\n",
        "if b>a and c>a:\n",
        "    print(\"b and c are greater than a\")"
      ],
      "metadata": {
        "colab": {
          "base_uri": "https://localhost:8080/"
        },
        "id": "XXGnZiFGoKDa",
        "outputId": "8f4f6716-f4cc-486e-8538-f12ac5ec3d59"
      },
      "execution_count": 16,
      "outputs": [
        {
          "output_type": "stream",
          "name": "stdout",
          "text": [
            "c is greater\n",
            "b and c are greater than a\n"
          ]
        }
      ]
    },
    {
      "cell_type": "code",
      "source": [
        "a=10\n",
        "b=20\n",
        "c=30\n",
        "\n",
        "if c>b or c>a  :\n",
        "    print(\"c is greater than a or b\")\n"
      ],
      "metadata": {
        "colab": {
          "base_uri": "https://localhost:8080/"
        },
        "id": "7Ddj7Uytp5FL",
        "outputId": "0a9733bd-eaf6-4b6b-8e4e-5a539e933a6e"
      },
      "execution_count": 17,
      "outputs": [
        {
          "output_type": "stream",
          "name": "stdout",
          "text": [
            "c is greater than a or b\n"
          ]
        }
      ]
    },
    {
      "cell_type": "code",
      "source": [
        "temperature = 25\n",
        "is_sunny = False\n",
        "\n",
        "if not is_sunny:\n",
        "    print(\"Maybe we should stay indoors.\")"
      ],
      "metadata": {
        "colab": {
          "base_uri": "https://localhost:8080/"
        },
        "id": "RUEJAteaqGZ4",
        "outputId": "da64613b-a65e-4cab-bec1-9a4fead5ffc3"
      },
      "execution_count": 22,
      "outputs": [
        {
          "output_type": "stream",
          "name": "stdout",
          "text": [
            "Maybe we should stay indoors.\n"
          ]
        }
      ]
    },
    {
      "cell_type": "code",
      "source": [
        "#9: write a python program to convert user input from string to integer, float or boolean\n",
        "\n",
        "# Converting a string into a integer\n",
        "number_str = \"10\"\n",
        "number_int = int(number_str)\n",
        "print(number_int)\n",
        "\n",
        "# Converting a string into a float\n",
        "decimal_str = \"10.5\"\n",
        "decimal_float = float(decimal_str)\n",
        "print(decimal_float)\n",
        "\n",
        "# Converting a string into a bolean\n",
        "newword1 = \"Football\"\n",
        "y = bool(newword1)\n",
        "print(y)"
      ],
      "metadata": {
        "colab": {
          "base_uri": "https://localhost:8080/"
        },
        "id": "hBn8-LuCrMfw",
        "outputId": "405e36b0-308a-4e8a-9b66-7884a571f280"
      },
      "execution_count": 30,
      "outputs": [
        {
          "output_type": "stream",
          "name": "stdout",
          "text": [
            "10\n",
            "10.5\n",
            "True\n"
          ]
        }
      ]
    },
    {
      "cell_type": "code",
      "source": [
        "#10: Write a program to demonstrate type casting in python with list elements\n",
        "\n",
        "num_string = '12'\n",
        "num_integer = 23\n",
        "\n",
        "print(\"Data type of num_string before Type Casting:\",type(num_string))\n",
        "\n",
        "# explicit type conversion\n",
        "num_string = int(num_string)\n",
        "\n",
        "print(\"Data type of num_string after Type Casting:\",type(num_string))\n",
        "\n",
        "num_sum = num_integer + num_string\n",
        "\n",
        "print(\"Sum:\",num_sum)\n",
        "print(\"Data type of num_sum:\",type(num_sum))"
      ],
      "metadata": {
        "colab": {
          "base_uri": "https://localhost:8080/"
        },
        "id": "ZgxHEgRgtqcU",
        "outputId": "b9dbe8aa-1880-4c4f-b63d-829f5e7970d7"
      },
      "execution_count": 32,
      "outputs": [
        {
          "output_type": "stream",
          "name": "stdout",
          "text": [
            "Data type of num_string before Type Casting: <class 'str'>\n",
            "Data type of num_string after Type Casting: <class 'int'>\n",
            "Sum: 35\n",
            "Data type of num_sum: <class 'int'>\n"
          ]
        }
      ]
    },
    {
      "cell_type": "code",
      "source": [
        "#11: Write a program that checks if a number is positive, negative or zero\n",
        "\n",
        "a=int(input(\"Enter a number: \"))\n",
        "if a>0:\n",
        "    print(\"Number is positive\")\n",
        "elif a<0:\n",
        "    print(\"Number is negative\")\n",
        "else:\n",
        "    print(\"Number is zero\")"
      ],
      "metadata": {
        "colab": {
          "base_uri": "https://localhost:8080/"
        },
        "id": "mZlyG6Zo_fVr",
        "outputId": "d81630f3-8245-457b-a10c-48893b761d9b"
      },
      "execution_count": 34,
      "outputs": [
        {
          "output_type": "stream",
          "name": "stdout",
          "text": [
            "Enter a number: -5\n",
            "Number is negative\n"
          ]
        }
      ]
    },
    {
      "cell_type": "code",
      "source": [
        "#12: Write a for loop to print numbers 1 to 10\n",
        "\n",
        "for i in range(1,11):\n",
        "    print(i)\n"
      ],
      "metadata": {
        "colab": {
          "base_uri": "https://localhost:8080/"
        },
        "id": "ksb_PnYwAKmj",
        "outputId": "08843936-a9ad-4365-f853-968adb550f14"
      },
      "execution_count": 35,
      "outputs": [
        {
          "output_type": "stream",
          "name": "stdout",
          "text": [
            "1\n",
            "2\n",
            "3\n",
            "4\n",
            "5\n",
            "6\n",
            "7\n",
            "8\n",
            "9\n",
            "10\n"
          ]
        }
      ]
    },
    {
      "cell_type": "code",
      "source": [
        "#13: Write a python program to print all even numbers from 1 to 50\n",
        "\n",
        "start = 1\n",
        "end = 50\n",
        "for i in range(start, end + 1):\n",
        "    if i % 2 == 0:\n",
        "        print(i)"
      ],
      "metadata": {
        "colab": {
          "base_uri": "https://localhost:8080/"
        },
        "id": "DTeIIcz5BNwe",
        "outputId": "eb147720-2239-42c0-bbfe-2b29ad2fd13b"
      },
      "execution_count": 37,
      "outputs": [
        {
          "output_type": "stream",
          "name": "stdout",
          "text": [
            "2\n",
            "4\n",
            "6\n",
            "8\n",
            "10\n",
            "12\n",
            "14\n",
            "16\n",
            "18\n",
            "20\n",
            "22\n",
            "24\n",
            "26\n",
            "28\n",
            "30\n",
            "32\n",
            "34\n",
            "36\n",
            "38\n",
            "40\n",
            "42\n",
            "44\n",
            "46\n",
            "48\n",
            "50\n"
          ]
        }
      ]
    },
    {
      "cell_type": "code",
      "source": [
        "#14: Write a python program to reverse a string using while loop\n",
        "def reverse_while_loop(s):\n",
        "    s1 = ''\n",
        "    length = len(s) - 1\n",
        "    while length >= 0:\n",
        "        s1 += s[length]\n",
        "        length -= 1\n",
        "    return s1\n",
        "\n",
        "input_str = 'Learn in your native language'\n",
        "print('Reverse String using while loop =', reverse_while_loop(input_str))"
      ],
      "metadata": {
        "colab": {
          "base_uri": "https://localhost:8080/"
        },
        "id": "GcKgt9SeBy6H",
        "outputId": "95fd0a38-633e-4d8b-e526-1aeb77884dea"
      },
      "execution_count": 46,
      "outputs": [
        {
          "output_type": "stream",
          "name": "stdout",
          "text": [
            "Reverse String using while loop = egaugnal evitan ruoy ni nraeL\n"
          ]
        }
      ]
    },
    {
      "cell_type": "code",
      "source": [
        "#15: Write a Python program to calculate the factorial of a number provided by user using a while loop\n",
        "\n",
        "n = int(input(\"Enter any number: \"))\n",
        "\n",
        "f = 1\n",
        "while n >= 1:\n",
        "    f *= n\n",
        "    n -= 1\n",
        "\n",
        "print(\"Factorial is\", f)\n",
        ""
      ],
      "metadata": {
        "colab": {
          "base_uri": "https://localhost:8080/"
        },
        "id": "8uRe8srrJrJw",
        "outputId": "c653101e-a948-42e4-cafa-948dce73393c"
      },
      "execution_count": 48,
      "outputs": [
        {
          "output_type": "stream",
          "name": "stdout",
          "text": [
            "Enter any number: 5\n",
            "Factorial is 120\n"
          ]
        }
      ]
    }
  ]
}